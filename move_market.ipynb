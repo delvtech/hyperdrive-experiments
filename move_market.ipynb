{
 "cells": [
  {
   "cell_type": "code",
   "execution_count": 1,
   "source": [
    "from fixedpointmath import FixedPoint\n",
    "\n",
    "from agent0.hyperdrive.interactive import InteractiveHyperdrive, LocalChain\n",
    "\n",
    "LIQUDITY = 10_000_000  # 10 million\n",
    "config = InteractiveHyperdrive.Config(\n",
    "    position_duration=60 * 60 * 24 * 365,  # 365 days,\n",
    "    checkpoint_duration=60 * 60 * 24,  # 1 day\n",
    "    initial_liquidity=FixedPoint(LIQUDITY),\n",
    "    initial_fixed_apr=FixedPoint(0.035),\n",
    "    initial_variable_rate=FixedPoint(0.035),\n",
    "    curve_fee=FixedPoint(0.001),\n",
    "    flat_fee=FixedPoint(0),\n",
    "    governance_lp_fee=FixedPoint(0),\n",
    "    calc_pnl=False,\n",
    ")\n",
    "chain = LocalChain(LocalChain.Config(db_port=5_433, chain_port=10_000))\n",
    "interactive_hyperdrive = InteractiveHyperdrive(chain, config)\n",
    "agent = interactive_hyperdrive.init_agent(base=FixedPoint(LIQUDITY))"
   ],
   "outputs": [],
   "metadata": {}
  },
  {
   "cell_type": "code",
   "execution_count": 2,
   "source": [
    "# measure trade impact\n",
    "fixed_rate_before = interactive_hyperdrive.interface.calc_fixed_rate()\n",
    "print(f\"fixed rate before trade: {fixed_rate_before}\")\n",
    "agent.open_long(FixedPoint(10_000))\n",
    "fixed_rate_after = interactive_hyperdrive.interface.calc_fixed_rate()\n",
    "print(f\"fixed rate after  trade: {fixed_rate_after}\")\n",
    "trade_impact = float(fixed_rate_before - fixed_rate_after)\n",
    "print(f\"trade impact is {trade_impact:.4%} ({trade_impact*1e4:.2f} bps)\")"
   ],
   "outputs": [
    {
     "output_type": "stream",
     "name": "stdout",
     "text": [
      "fixed rate before trade: 0.035000000000000003\n",
      "fixed rate after  trade: 0.034932030391529882\n",
      "trade impact is 0.0068% (0.68 bps)\n"
     ]
    }
   ],
   "metadata": {}
  }
 ],
 "nbformat": 4,
 "nbformat_minor": 2,
 "metadata": {
  "language_info": {
   "codemirror_mode": {
    "name": "ipython",
    "version": 3
   },
   "file_extension": ".py",
   "mimetype": "text/x-python",
   "name": "python",
   "nbconvert_exporter": "python",
   "pygments_lexer": "ipython3",
   "version": 3
  }
 }
}